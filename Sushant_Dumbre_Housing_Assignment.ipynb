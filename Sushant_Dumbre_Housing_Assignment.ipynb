{
 "cells": [
  {
   "cell_type": "markdown",
   "id": "2516b31e",
   "metadata": {},
   "source": [
    "# Housing Data Analysis – Sushant Dumbre\n",
    "## Introduction\n",
    "**Purpose:** Analyze a housing dataset to extract insights and answer key questions.\n",
    "\n",
    "**Dataset:** Contains information about houses, prices, and other attributes.\n",
    "\n",
    "**Objective:** Understand patterns in the data, explore relationships, and summarize insights."
   ]
  },
  {
   "cell_type": "code",
   "execution_count": null,
   "id": "6131c4b7",
   "metadata": {},
   "outputs": [],
   "source": [
    "import pandas as pd\n",
    "import numpy as np\n",
    "import matplotlib.pyplot as plt\n",
    "import seaborn as sns\n",
    "\n",
    "# Load the dataset\n",
    "# Replace 'housing.csv' with your dataset file\n",
    "df = pd.read_csv('housing.csv')\n",
    "\n",
    "# Display first 5 rows\n",
    "df.head()\n",
    "\n",
    "# Check dataset shape and info\n",
    "print('Shape of dataset:', df.shape)\n",
    "df.info()"
   ]
  },
  {
   "cell_type": "code",
   "execution_count": null,
   "id": "05829610",
   "metadata": {},
   "outputs": [],
   "source": [
    "# Check for missing values\n",
    "print('Missing values:\\n', df.isnull().sum())\n",
    "\n",
    "# Fill missing numeric values with median\n",
    "numeric_cols = df.select_dtypes(include=np.number).columns\n",
    "for col in numeric_cols:\n",
    "    df[col].fillna(df[col].median(), inplace=True)\n",
    "\n",
    "# Fill missing categorical values with mode\n",
    "categorical_cols = df.select_dtypes(include='object').columns\n",
    "for col in categorical_cols:\n",
    "    df[col].fillna(df[col].mode()[0], inplace=True)\n",
    "\n",
    "# Check cleaned data\n",
    "df.info()"
   ]
  },
  {
   "cell_type": "code",
   "execution_count": null,
   "id": "b8e5735f",
   "metadata": {},
   "outputs": [],
   "source": [
    "# Summary statistics for numeric columns\n",
    "df.describe()\n",
    "\n",
    "# Mode for categorical columns\n",
    "for col in categorical_cols:\n",
    "    print(f'Mode of {col}: {df[col].mode()[0]}')\n",
    "\n",
    "# Example: Check min, max, median\n",
    "print('Median house price:', df['Price'].median())\n",
    "print('Min house price:', df['Price'].min())\n",
    "print('Max house price:', df['Price'].max())"
   ]
  },
  {
   "cell_type": "code",
   "execution_count": null,
   "id": "b077da18",
   "metadata": {},
   "outputs": [],
   "source": [
    "# Histogram of house prices\n",
    "plt.figure(figsize=(8,5))\n",
    "sns.histplot(df['Price'], bins=30, kde=True)\n",
    "plt.title('Distribution of House Prices')\n",
    "plt.xlabel('Price')\n",
    "plt.ylabel('Frequency')\n",
    "plt.show()\n",
    "\n",
    "# Boxplot to check outliers\n",
    "plt.figure(figsize=(8,5))\n",
    "sns.boxplot(x=df['Price'])\n",
    "plt.title('Boxplot of House Prices')\n",
    "plt.show()\n",
    "\n",
    "# Scatterplot: Price vs Square Footage\n",
    "plt.figure(figsize=(8,5))\n",
    "sns.scatterplot(x='SqFt', y='Price', data=df)\n",
    "plt.title('Price vs Square Footage')\n",
    "plt.xlabel('Square Footage')\n",
    "plt.ylabel('Price')\n",
    "plt.show()\n",
    "\n",
    "# Countplot for a categorical feature (example: Bedrooms)\n",
    "plt.figure(figsize=(8,5))\n",
    "sns.countplot(x='Bedrooms', data=df)\n",
    "plt.title('Count of Houses by Bedrooms')\n",
    "plt.show()\n",
    "\n",
    "# Heatmap for correlation\n",
    "plt.figure(figsize=(10,8))\n",
    "sns.heatmap(df.corr(), annot=True, cmap='coolwarm')\n",
    "plt.title('Correlation Heatmap')\n",
    "plt.show()"
   ]
  },
  {
   "cell_type": "markdown",
   "id": "7e2605ee",
   "metadata": {},
   "source": [
    "## Analysis / Insights\n",
    "- Observed trends between house price and square footage.\n",
    "- Houses with more bedrooms tend to have higher prices.\n",
    "- Correlation heatmap shows which features are most related to price.\n",
    "- Any other trends you notice should be described here."
   ]
  },
  {
   "cell_type": "markdown",
   "id": "1850088e",
   "metadata": {},
   "source": [
    "## Conclusion\n",
    "- Summarize the main insights from your analysis.\n",
    "- Highlight key patterns or trends.\n",
    "- Optional recommendations based on analysis (e.g., which type of houses are in high demand)."
   ]
  },
  {
   "cell_type": "code",
   "execution_count": null,
   "id": "87564e82",
   "metadata": {},
   "outputs": [],
   "source": [
    "# df.to_csv('cleaned_housing.csv', index=False)"
   ]
  }
 ],
 "metadata": {},
 "nbformat": 4,
 "nbformat_minor": 5
}
